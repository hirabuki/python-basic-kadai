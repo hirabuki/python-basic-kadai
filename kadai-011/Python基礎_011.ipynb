{
  "cells": [
    {
      "cell_type": "code",
      "execution_count": null,
      "metadata": {},
      "outputs": [],
      "source": [
        "list = [\"水\",\"金\",\"地\",\"火\",\"木\",\"土\",\"天\",\"海\",\"冥\"]\n",
        "\n",
        "# range関数とlen関数を組みあわせて、listの長さ9(0～8)までを繰り返し処理する\n",
        "for i in range(len(list)):\n",
        "    # インデックスは1から始めたいので、＋１をする\n",
        "    print(i + 1, list[i])\n",
        "    \n",
        "#最後は必ず次のインデックスを表示して終了とする\n",
        "print(len(list) + 1)"
      ]
    },
    {
      "cell_type": "code",
      "execution_count": null,
      "metadata": {},
      "outputs": [],
      "source": [
        "list = [\"水\",\"金\",\"地\",\"火\",\"木\",\"土\",\"天\",\"海\",\"冥\"]\n",
        "\n",
        "# カウント用の変数を設定して、初期値を0にする\n",
        "i = 0\n",
        "\n",
        "# カウント用変数が、listの長さである9になるまでの間繰り返し処理する\n",
        "while i < len(list):\n",
        "    # インデックスは1から始めたいので、＋１をする\n",
        "    print(i + 1, list[i])\n",
        "    i = i + 1\n",
        "\n",
        "#最後は必ず次のインデックスを表示して終了とする\n",
        "print(len(list) + 1)"
      ]
    }
  ],
  "metadata": {
    "colab": {
      "authorship_tag": "ABX9TyO36rxrOKPZPYz3OHEhfHEC",
      "include_colab_link": true,
      "provenance": []
    },
    "kernelspec": {
      "display_name": "Python 3",
      "name": "python3"
    },
    "language_info": {
      "codemirror_mode": {
        "name": "ipython",
        "version": 3
      },
      "file_extension": ".py",
      "mimetype": "text/x-python",
      "name": "python",
      "nbconvert_exporter": "python",
      "pygments_lexer": "ipython3",
      "version": "3.9.2"
    }
  },
  "nbformat": 4,
  "nbformat_minor": 0
}
