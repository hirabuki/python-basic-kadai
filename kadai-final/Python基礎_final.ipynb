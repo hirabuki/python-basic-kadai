{
  "cells": [
    {
      "cell_type": "code",
      "execution_count": null,
      "metadata": {},
      "outputs": [],
      "source": [
        "'''\n",
        "名前(name)と年齢(age)の属性を持つHumanクラスを作成してください。\n",
        "Humanクラスには、以下の条件で標準出力(print)するcheck_adultメソッドを追加してください。\n",
        "\n",
        "ageが20以上の場合に大人であること\n",
        "そうでない場合に大人でないこと\n",
        "\n",
        "Humanクラスのインスタンスを複数生成してリストに追加し、リストの要素数分だけcheck_adultメソッドを呼び出してください。\n",
        "'''\n",
        "\n",
        "# Humanクラスを定義\n",
        "class Human:\n",
        "    # コンストラクタの定義\n",
        "    def __init__(self, name, age):\n",
        "        self.name = name\n",
        "        self.age = age\n",
        "\n",
        "    # 年齢から、大人かどうか判定するメソッドを定義\n",
        "    def check_adult(self):\n",
        "        if self.age >= 20:\n",
        "            print(f\"{self.name}は、20歳以上なので大人です。\")\n",
        "        else:\n",
        "            print(f\"{self.name}は、20歳未満なので大人ではありません。\")\n",
        "\n",
        "# 複数のインスタンスを作成して、リストへ格納\n",
        "humans = [\n",
        "    Human(\"侍一郎\", 30),\n",
        "    Human(\"侍二郎\", 25),\n",
        "    Human(\"侍三郎\", 20),\n",
        "    Human(\"侍四郎\", 15),\n",
        "    Human(\"侍五郎\", 10)\n",
        "]\n",
        "\n",
        "#　繰り返し構文で、リストからインスタンスを取り出し、check_adultメソッドを呼び出す\n",
        "for human in humans:\n",
        "    human.check_adult()"
      ]
    }
  ],
  "metadata": {
    "colab": {
      "authorship_tag": "ABX9TyO36rxrOKPZPYz3OHEhfHEC",
      "include_colab_link": true,
      "provenance": []
    },
    "kernelspec": {
      "display_name": "Python 3",
      "name": "python3"
    },
    "language_info": {
      "codemirror_mode": {
        "name": "ipython",
        "version": 3
      },
      "file_extension": ".py",
      "mimetype": "text/x-python",
      "name": "python",
      "nbconvert_exporter": "python",
      "pygments_lexer": "ipython3",
      "version": "3.9.2"
    }
  },
  "nbformat": 4,
  "nbformat_minor": 0
}
