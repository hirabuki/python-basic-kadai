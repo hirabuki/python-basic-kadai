{
  "cells": [
    {
      "cell_type": "code",
      "execution_count": 2,
      "metadata": {},
      "outputs": [
        {
          "name": "stdout",
          "output_type": "stream",
          "text": [
            "侍太郎\n",
            "['侍太郎', '侍一郎', '侍二郎', '侍三郎', '侍四郎']\n"
          ]
        }
      ],
      "source": [
        "user_names = [\"侍太郎\", \"侍一郎\", \"侍二郎\", \"侍三郎\", \"侍四郎\"]\n",
        "\n",
        "# 2番目の要素である「侍一郎」という文字列だけを取り出して表示する\n",
        "print(user_names[0])\n",
        "print(user_names)"
      ]
    },
    {
      "cell_type": "code",
      "execution_count": 3,
      "metadata": {},
      "outputs": [
        {
          "name": "stdout",
          "output_type": "stream",
          "text": [
            "['侍太郎', '侍花子', '侍二郎', '侍三郎', '侍四郎']\n"
          ]
        }
      ],
      "source": [
        "user_names = [\"侍太郎\", \"侍一郎\", \"侍二郎\", \"侍三郎\", \"侍四郎\"]\n",
        "\n",
        "# 2番目の要素を更新する。\n",
        "user_names[1] = \"侍花子\"\n",
        "print(user_names)"
      ]
    },
    {
      "cell_type": "code",
      "execution_count": 5,
      "metadata": {},
      "outputs": [
        {
          "name": "stdout",
          "output_type": "stream",
          "text": [
            "['侍太郎', '侍一郎', '侍二郎', '侍三郎', '侍四郎', '侍五郎']\n",
            "['侍太郎', '侍一郎', '侍三郎', '侍四郎', '侍五郎']\n"
          ]
        }
      ],
      "source": [
        "user_names = [\"侍太郎\", \"侍一郎\", \"侍二郎\", \"侍三郎\", \"侍四郎\"]\n",
        "\n",
        "# 6番目の要素を追加する\n",
        "user_names.append(\"侍五郎\")\n",
        "print(user_names)\n",
        "\n",
        "# 3番目の要素を削除する\n",
        "user_names.pop(2)\n",
        "print(user_names)"
      ]
    },
    {
      "cell_type": "code",
      "execution_count": 6,
      "metadata": {},
      "outputs": [
        {
          "name": "stdout",
          "output_type": "stream",
          "text": [
            "イギリス\n",
            "('日本', 'アメリカ', 'イギリス', 'フランス')\n"
          ]
        }
      ],
      "source": [
        "country_names = (\"日本\", \"アメリカ\", \"イギリス\", \"フランス\")\n",
        "\n",
        "#　3番目の要素を取り出す\n",
        "print(country_names[2])\n",
        "\n",
        "#　全ての要素を取り出す\n",
        "print(country_names)\n"
      ]
    },
    {
      "cell_type": "code",
      "execution_count": 8,
      "metadata": {},
      "outputs": [
        {
          "name": "stdout",
          "output_type": "stream",
          "text": [
            "{2, 3, 5, 7}\n"
          ]
        }
      ],
      "source": [
        "#　1~10までに含まれる素数のセット\n",
        "prime_numbers = {2, 3, 5, 7}\n",
        "\n",
        "#　セット全体を表示\n",
        "print(prime_numbers)\n",
        "\n",
        "#　セットの3番目の要素を表示\n",
        "#  print(prime_numbers[2])\n"
      ]
    },
    {
      "cell_type": "code",
      "execution_count": 10,
      "metadata": {},
      "outputs": [
        {
          "name": "stdout",
          "output_type": "stream",
          "text": [
            "{2, 3, 5, 7, 11}\n",
            "{2, 5, 7, 11}\n"
          ]
        }
      ],
      "source": [
        "# 1～10までに含まれる素数のセット\n",
        "prime_numbers = {2, 3, 5, 7}\n",
        "\n",
        "prime_numbers.add(11)\n",
        "print(prime_numbers)\n",
        "\n",
        "prime_numbers.remove(3)\n",
        "print(prime_numbers)"
      ]
    },
    {
      "cell_type": "code",
      "execution_count": 11,
      "metadata": {},
      "outputs": [
        {
          "name": "stdout",
          "output_type": "stream",
          "text": [
            "{'イギリス', '日本', 'フランス', 'アメリカ'}\n",
            "{'イギリス', '日本', 'ドイツ', 'アメリカ', 'フランス'}\n",
            "{'日本', 'ドイツ', 'アメリカ', 'フランス'}\n"
          ]
        }
      ],
      "source": [
        "country_names = {\"アメリカ\", \"イギリス\", \"日本\", \"フランス\"}\n",
        "\n",
        "print(country_names)\n",
        "\n",
        "country_names.add(\"ドイツ\")\n",
        "print(country_names)\n",
        "\n",
        "country_names.remove(\"イギリス\")\n",
        "print(country_names)"
      ]
    },
    {
      "cell_type": "code",
      "execution_count": 15,
      "metadata": {},
      "outputs": [
        {
          "name": "stdout",
          "output_type": "stream",
          "text": [
            "侍太郎\n",
            "{'name': '侍太郎', 'age': 36, 'gender': '男性'}\n",
            "{'name': '侍太郎', 'age': 37, 'gender': '男性', 'address': '東京都'}\n",
            "{'name': '侍太郎', 'age': 37, 'gender': '男性'}\n"
          ]
        }
      ],
      "source": [
        "# 連想配列を作成\n",
        "personal_data = {\"name\": \"侍太郎\", \"age\": 36, \"gender\": \"男性\"}\n",
        "\n",
        "# キー「name」の値を表示\n",
        "print(personal_data[\"name\"])\n",
        "\n",
        "# 連想配列全体を表示\n",
        "print(personal_data)\n",
        "\n",
        "# キー「age」の値を更新\n",
        "personal_data[\"age\"] = 37\n",
        "\n",
        "# 新しく要素（キーと値）を追加\n",
        "personal_data[\"address\"] = \"東京都\"\n",
        "\n",
        "# 連想配列全体を表示\n",
        "print(personal_data)\n",
        "\n",
        "personal_data.pop(\"address\")\n",
        "\n",
        "# 連想配列全体を表示\n",
        "print(personal_data)\n"
      ]
    },
    {
      "cell_type": "code",
      "execution_count": 1,
      "metadata": {},
      "outputs": [
        {
          "name": "stdout",
          "output_type": "stream",
          "text": [
            "水曜日は晴れです\n",
            "晴れ\n",
            "水曜日は晴れです\n"
          ]
        }
      ],
      "source": [
        "list = [\n",
        "\"月曜日は晴れです\",\n",
        "\"火曜日は雨です\",\n",
        "\"水曜日は晴れです\",\n",
        "\"木曜日は晴れです\",\n",
        "\"金曜日は曇りです\",\n",
        "\"土曜日は曇りのち雨です\",\n",
        "\"日曜日は雷雨です\"]\n",
        "\n",
        "dictionary = {\n",
        "\"mon\":\"晴れ\",\n",
        "\"tue\":\"雨\",\n",
        "\"wed\":\"晴れ\",\n",
        "\"thu\":\"晴れ\",\n",
        "\"fri\":\"曇り\",\n",
        "\"sat\":\"曇りのち雨\",\n",
        "\"sun\":\"雷雨\",\n",
        "}\n",
        "\n",
        "print(list[2])\n",
        "print(dictionary[\"wed\"])\n",
        "tenki = dictionary[\"wed\"]\n",
        "print(f\"水曜日は{tenki}です\")"
      ]
    },
    {
      "cell_type": "code",
      "execution_count": 2,
      "metadata": {},
      "outputs": [
        {
          "name": "stdout",
          "output_type": "stream",
          "text": [
            "63\n",
            "True\n"
          ]
        }
      ],
      "source": [
        "print(45 + 18)\n",
        "print(45 > 18)"
      ]
    },
    {
      "cell_type": "code",
      "execution_count": 3,
      "metadata": {},
      "outputs": [
        {
          "name": "stdout",
          "output_type": "stream",
          "text": [
            "False\n"
          ]
        }
      ],
      "source": [
        "print(\"5\" == 5)"
      ]
    },
    {
      "cell_type": "code",
      "execution_count": 4,
      "metadata": {},
      "outputs": [
        {
          "name": "stdout",
          "output_type": "stream",
          "text": [
            "num1とnum2は等しいです\n"
          ]
        }
      ],
      "source": [
        "num1 = 5\n",
        "num2 = \"5\"\n",
        "\n",
        "if num1 == int(num2):\n",
        "    print(\"num1とnum2は等しいです\")"
      ]
    },
    {
      "cell_type": "code",
      "execution_count": 17,
      "metadata": {},
      "outputs": [
        {
          "name": "stdout",
          "output_type": "stream",
          "text": [
            "4\n",
            "大当たりです\n"
          ]
        }
      ],
      "source": [
        "# ランダムな整数を利用するために、randomモジュールをインポート\n",
        "import random\n",
        "\n",
        "#　変数numに0~4までのランダムな整数を代入する\n",
        "num = random.randint(0, 4)\n",
        "\n",
        "# 変数numの値を出力\n",
        "print(num)\n",
        "\n",
        "# 変数numの値が4であれば、「大当たりです」という文字列を出力する\n",
        "if num == 4:\n",
        "    print(\"大当たりです\")\n",
        "    "
      ]
    },
    {
      "cell_type": "code",
      "execution_count": 36,
      "metadata": {},
      "outputs": [
        {
          "name": "stdout",
          "output_type": "stream",
          "text": [
            "4\n",
            "大当たりです\n"
          ]
        }
      ],
      "source": [
        "# ランダムな整数を利用するために、randomモジュールをインポート\n",
        "import random\n",
        "\n",
        "#　変数numに0~4までのランダムな整数を代入する\n",
        "num = random.randint(0, 4)\n",
        "\n",
        "# 変数numの値を出力\n",
        "print(num)\n",
        "\n",
        "# 変数numの値が4なら「大当たりです」、それ以外なら「はずれです」と出力する\n",
        "if num == 4:\n",
        "    print(\"大当たりです\")\n",
        "else:\n",
        "    print(\"はずれです\")"
      ]
    },
    {
      "cell_type": "code",
      "execution_count": 47,
      "metadata": {},
      "outputs": [
        {
          "name": "stdout",
          "output_type": "stream",
          "text": [
            "0\n",
            "はずれです\n"
          ]
        }
      ],
      "source": [
        "# ランダムな整数を利用するために、randomモジュールをインポート\n",
        "import random\n",
        "\n",
        "#　変数numに0~4までのランダムな整数を代入する\n",
        "num = random.randint(0, 4)\n",
        "\n",
        "# 変数numの値を出力\n",
        "print(num)\n",
        "\n",
        "# 変数numの値が4なら「大当たりです」、3なら「当たりです」、それ以外なら「はずれです」と出力する\n",
        "if num == 4:\n",
        "    print(\"大当たりです\")\n",
        "elif num == 3:\n",
        "    print(\"当たりです\")\n",
        "else:\n",
        "    print(\"はずれです\")"
      ]
    },
    {
      "cell_type": "code",
      "execution_count": 52,
      "metadata": {},
      "outputs": [
        {
          "name": "stdout",
          "output_type": "stream",
          "text": [
            "0\n",
            "and条件が成り立ちませんでした\n",
            "or条件が成り立ちませんでした\n"
          ]
        }
      ],
      "source": [
        "#ランダムな整数を利用するために、randomモジュールをインポート\n",
        "import random\n",
        "\n",
        "# 変数numに0～4までのランダムな整数を代入する\n",
        "num = random.randint(0, 4)\n",
        "\n",
        "# 変数numの値を出力\n",
        "print(num)\n",
        "\n",
        "# すべての条件が成り立つ場合にのみ処理を行う（変数numの値が2）\n",
        "if 1 < num and num <3:\n",
        "    print(\"変数numは1より大きく、3より小さいです\")\n",
        "else:\n",
        "    print(\"and条件が成り立ちませんでした\")\n",
        "\n",
        "# 1つでも条件が成り立てば処理を行う（変数numの値が1または3）\n",
        "if num == 1 or num == 3:\n",
        "    print(\"変数numは1または3です\")\n",
        "else:\n",
        "    print(\"or条件が成り立ちませんでした\")\n"
      ]
    },
    {
      "cell_type": "code",
      "execution_count": 78,
      "metadata": {},
      "outputs": [
        {
          "name": "stdout",
          "output_type": "stream",
          "text": [
            "2\n",
            "変数numは1以上、3以下です\n"
          ]
        }
      ],
      "source": [
        "# ランダムな整数を利用するために、randomモジュールをインポート\n",
        "import random\n",
        "\n",
        "# 変数numに0～4までのランダムな整数を代入する\n",
        "num = random.randint(0, 4)\n",
        "\n",
        "# 変数numの値を出力\n",
        "print(num)\n",
        "\n",
        "# すべての条件が成り立つ場合にのみ処理を行う（変数numの値が2）\n",
        "if 1 <= num <=3:\n",
        "    print(\"変数numは1以上、3以下です\")\n",
        "else:\n",
        "    print(\"and条件が成り立ちませんでした\")"
      ]
    }
  ],
  "metadata": {
    "colab": {
      "authorship_tag": "ABX9TyO36rxrOKPZPYz3OHEhfHEC",
      "include_colab_link": true,
      "provenance": []
    },
    "kernelspec": {
      "display_name": "Python 3",
      "name": "python3"
    },
    "language_info": {
      "codemirror_mode": {
        "name": "ipython",
        "version": 3
      },
      "file_extension": ".py",
      "mimetype": "text/x-python",
      "name": "python",
      "nbconvert_exporter": "python",
      "pygments_lexer": "ipython3",
      "version": "3.9.2"
    }
  },
  "nbformat": 4,
  "nbformat_minor": 0
}
