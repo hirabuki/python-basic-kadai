{
  "cells": [
    {
      "cell_type": "code",
      "execution_count": null,
      "metadata": {},
      "outputs": [],
      "source": [
        "# 以下のコードを実行するとスコープに関するエラーが発生します。\n",
        "# エラーを修正して、正しく計算結果が出力されるようにしてください。\n",
        "\n",
        "price1 = 100\n",
        "price2 = 200\n",
        "# taxをグローバル変数として定義\n",
        "tax = 1.1\n",
        "\n",
        "def total():\n",
        "    #　ローカル変数のtaxを使用しない\n",
        "    # tax = 1.1\n",
        "    return price1 + price2\n",
        "\n",
        "print (total() * tax)"
      ]
    }
  ],
  "metadata": {
    "colab": {
      "authorship_tag": "ABX9TyO36rxrOKPZPYz3OHEhfHEC",
      "include_colab_link": true,
      "provenance": []
    },
    "kernelspec": {
      "display_name": "Python 3",
      "name": "python3"
    },
    "language_info": {
      "codemirror_mode": {
        "name": "ipython",
        "version": 3
      },
      "file_extension": ".py",
      "mimetype": "text/x-python",
      "name": "python",
      "nbconvert_exporter": "python",
      "pygments_lexer": "ipython3",
      "version": "3.9.2"
    }
  },
  "nbformat": 4,
  "nbformat_minor": 0
}
