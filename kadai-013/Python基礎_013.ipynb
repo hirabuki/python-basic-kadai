{
  "cells": [
    {
      "cell_type": "code",
      "execution_count": 2,
      "metadata": {},
      "outputs": [
        {
          "name": "stdout",
          "output_type": "stream",
          "text": [
            "税込 1200.0円になります。\n"
          ]
        }
      ],
      "source": [
        "# 商品を購入して、消費税を加えた計算結果を返す関数を記述してください。\n",
        "# 第1引数に商品の金額、第2引数に消費税（10%）を設定できるようにしてください。\n",
        "\n",
        "# 商品代金priceと税率tax_rateを受け取って、税込金額を計算する\n",
        "def calculate_total_price(price, tax_rate):\n",
        "    total_price = price + (price * tax_rate / 100)\n",
        "    return total_price\n",
        "\n",
        "# 税込金額を丁寧に表示するための関数\n",
        "def display_total_price(total_price):\n",
        "    print(f\"税込 {total_price}円になります。\")\n",
        "\n",
        "# 商品価格をセット\n",
        "price = 1000\n",
        "# 税率をセット\n",
        "tax_rate = 10\n",
        "\n",
        "# 関数に商品代金と税率を渡して、結果をtotal_priceへ格納\n",
        "total_price = calculate_total_price(price, tax_rate)\n",
        "\n",
        "# total_priceに戻ってきた税込金額を表示用の関数へ渡して、その結果を表示する\n",
        "display_total_price(total_price)"
      ]
    }
  ],
  "metadata": {
    "colab": {
      "authorship_tag": "ABX9TyO36rxrOKPZPYz3OHEhfHEC",
      "include_colab_link": true,
      "provenance": []
    },
    "kernelspec": {
      "display_name": "Python 3",
      "name": "python3"
    },
    "language_info": {
      "codemirror_mode": {
        "name": "ipython",
        "version": 3
      },
      "file_extension": ".py",
      "mimetype": "text/x-python",
      "name": "python",
      "nbconvert_exporter": "python",
      "pygments_lexer": "ipython3",
      "version": "3.9.2"
    }
  },
  "nbformat": 4,
  "nbformat_minor": 0
}
